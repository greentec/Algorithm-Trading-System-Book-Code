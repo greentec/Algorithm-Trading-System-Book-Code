{
 "cells": [
  {
   "cell_type": "code",
   "execution_count": 3,
   "metadata": {
    "collapsed": false
   },
   "outputs": [
    {
     "name": "stdout",
     "output_type": "stream",
     "text": [
      "(-1.1164207082061997,\n",
      " 0.7084792913306196,\n",
      " 3,\n",
      " 224,\n",
      " {'1%': -3.4598849133371958,\n",
      "  '10%': -2.5736938400829081,\n",
      "  '5%': -2.8745310704320794},\n",
      " 4836.262164341827)\n"
     ]
    }
   ],
   "source": [
    "import pandas as pd\n",
    "import statsmodels.tsa.stattools as ts\n",
    "import pprint\n",
    "\n",
    "def load_stock_data(file_name):\n",
    "    df = pd.read_pickle(file_name)\n",
    "    return df\n",
    "\n",
    "df_samsung = load_stock_data('samsung.data')\n",
    "adf_result = ts.adfuller(df_samsung['Close'])\n",
    "pprint.pprint(adf_result)"
   ]
  },
  {
   "cell_type": "code",
   "execution_count": 5,
   "metadata": {
    "collapsed": false
   },
   "outputs": [
    {
     "name": "stdout",
     "output_type": "stream",
     "text": [
      "Hurst Exponent : Samsung=0.400488433297, Hanmi=0.574960441652\n"
     ]
    }
   ],
   "source": [
    "import numpy as np\n",
    "\n",
    "def get_hurst_exponent(df):\n",
    "    lags = range(2, 100)\n",
    "    ts = np.log(df)\n",
    "    \n",
    "    tau = [np.sqrt(np.std(np.subtract(ts[lag:], ts[:-lag]))) for lag in lags]\n",
    "    poly = np.polyfit(np.log(lags), np.log(tau), 1)\n",
    "    \n",
    "    result = poly[0] * 2.0\n",
    "    \n",
    "    return result\n",
    "\n",
    "df_samsung = load_stock_data('samsung.data')\n",
    "df_hanmi = load_stock_data('hanmi.data')\n",
    "\n",
    "hurst_samsung = get_hurst_exponent(df_samsung['Close'])\n",
    "hurst_hanmi = get_hurst_exponent(df_hanmi['Close'])\n",
    "print('Hurst Exponent : Samsung=%s, Hanmi=%s' % (hurst_samsung, hurst_hanmi))"
   ]
  },
  {
   "cell_type": "code",
   "execution_count": 6,
   "metadata": {
    "collapsed": false
   },
   "outputs": [
    {
     "name": "stdout",
     "output_type": "stream",
     "text": [
      "Helf_life : Samsung=34.919901243, Hanmi=719.235047305\n"
     ]
    }
   ],
   "source": [
    "def get_half_life(df):\n",
    "    price = pd.Series(df)\n",
    "    lagged_price = price.shift(1).fillna(method='bfill')\n",
    "    delta = price - lagged_price\n",
    "    beta = np.polyfit(lagged_price, delta, 1)[0]\n",
    "    half_life = (-1 * np.log(2) / beta)\n",
    "    \n",
    "    return half_life\n",
    "\n",
    "df_samsung = load_stock_data('samsung.data')\n",
    "df_hanmi = load_stock_data('hanmi.data')\n",
    "half_life_samsung = get_half_life(df_samsung['Close'])\n",
    "half_life_hanmi = get_half_life(df_hanmi['Close'])\n",
    "print('Helf_life : Samsung=%s, Hanmi=%s' % (half_life_samsung, half_life_hanmi))"
   ]
  }
 ],
 "metadata": {
  "kernelspec": {
   "display_name": "Python 3",
   "language": "python",
   "name": "python3"
  },
  "language_info": {
   "codemirror_mode": {
    "name": "ipython",
    "version": 3
   },
   "file_extension": ".py",
   "mimetype": "text/x-python",
   "name": "python",
   "nbconvert_exporter": "python",
   "pygments_lexer": "ipython3",
   "version": "3.5.2"
  }
 },
 "nbformat": 4,
 "nbformat_minor": 2
}
